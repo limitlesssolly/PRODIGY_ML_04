{
 "cells": [
  {
   "cell_type": "code",
   "execution_count": 13,
   "metadata": {},
   "outputs": [],
   "source": [
    "import cv2\n",
    "import numpy as np\n",
    "import matplotlib.pyplot as plt"
   ]
  },
  {
   "cell_type": "code",
   "execution_count": 14,
   "metadata": {},
   "outputs": [],
   "source": [
    "def detectEdges(path):\n",
    "    image = cv2.imread(path) \n",
    "    grayscale = cv2.cvtColor(image, cv2.COLOR_BGR2GRAY) \n",
    "    gaussianned = cv2.GaussianBlur(grayscale, (3,3), 0) \n",
    "    edger = cv2.Canny(gaussianned, 180, 255) \n",
    "\n",
    "    return edger"
   ]
  },
  {
   "cell_type": "code",
   "execution_count": 15,
   "metadata": {},
   "outputs": [],
   "source": [
    "def comparesEdges(image, imagetoo):\n",
    "    difference = np.sum(np.abs(image - imagetoo))\n",
    "    return difference"
   ]
  },
  {
   "cell_type": "code",
   "execution_count": 17,
   "metadata": {},
   "outputs": [],
   "source": [
    "def closestShapeFinder(imgPath, imagesPaths):\n",
    "    imgEdge = detectEdges(imgPath)\n",
    "\n",
    "    otherEdges = [detectEdges(path) for path in imagesPaths]\n",
    "\n",
    "    similarities = [comparesEdges(imgEdge, ref_edge) for ref_edge in otherEdges]\n",
    "\n",
    "    closestOne = np.argmin(similarities)\n",
    "\n",
    "    return closestOne"
   ]
  },
  {
   "cell_type": "code",
   "execution_count": 16,
   "metadata": {},
   "outputs": [],
   "source": [
    "images = [\n",
    "    '../PRODIGY_ML_04/Training/c/frame_01_09_0001.png',\n",
    "    '../PRODIGY_ML_04/Training/fist/frame_01_03_0001.png',\n",
    "    '../PRODIGY_ML_04/Training/ok/frame_01_07_0001.png',\n",
    "    '../PRODIGY_ML_04/Testing/frame_00_09_0029.png'\n",
    "]"
   ]
  },
  {
   "cell_type": "code",
   "execution_count": 18,
   "metadata": {},
   "outputs": [
    {
     "name": "stdout",
     "output_type": "stream",
     "text": [
      "The closest shape to the fourth image is: ../PRODIGY_ML_04/Training/c/frame_01_09_0001.png\n"
     ]
    },
    {
     "data": {
      "image/png": "[encoded data removed]",
      "text/plain": [
       "<Figure size 1000x500 with 2 Axes>"
      ]
     },
     "metadata": {},
     "output_type": "display_data"
    }
   ],
   "source": [
    "closestOne = closestShapeFinder(images[3], images[:3])\n",
    "\n",
    "pather = images[closestOne]\n",
    "print(f\"The closest shape to the fourth image is: {pather}\")\n",
    "\n",
    "imgEdge = detectEdges(images[3])\n",
    "closestEdge = detectEdges(pather)\n",
    "\n",
    "plt.figure(figsize=(10, 5))\n",
    "plt.subplot(1, 2, 1)\n",
    "plt.imshow(imgEdge, cmap='gray')\n",
    "plt.title('Fourth Image Edges')\n",
    "plt.axis('off')\n",
    "\n",
    "plt.subplot(1, 2, 2)\n",
    "plt.imshow(closestEdge, cmap='gray')\n",
    "plt.title('Closest Shape Edges')\n",
    "plt.axis('off')\n",
    "\n",
    "plt.show()\n"
   ]
  }
 ],
 "metadata": {
  "kernelspec": {
   "display_name": "Python 3",
   "language": "python",
   "name": "python3"
  },
  "language_info": {
   "codemirror_mode": {
    "name": "ipython",
    "version": 3
   },
   "file_extension": ".py",
   "mimetype": "text/x-python",
   "name": "python",
   "nbconvert_exporter": "python",
   "pygments_lexer": "ipython3",
   "version": "3.12.1"
  }
 },
 "nbformat": 4,
 "nbformat_minor": 2
}
